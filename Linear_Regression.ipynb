{
 "cells": [
  {
   "cell_type": "code",
   "execution_count": 22,
   "id": "639b716d-785f-4dbd-82d5-1d82d15f55cf",
   "metadata": {},
   "outputs": [
    {
     "name": "stdout",
     "output_type": "stream",
     "text": [
      "Predicted values  [6.68699293e+146 6.70372714e+146 6.69368661e+146]\n",
      "Real values       [16622.67187 22739.42628 18987.38241]\n",
      "Trained W         3.3468424672027833e+143\n",
      "Trained b         1.680279672394365e+140\n"
     ]
    },
    {
     "data": {
      "image/png": "[encoded data removed]",
      "text/plain": [
       "<Figure size 640x480 with 1 Axes>"
      ]
     },
     "metadata": {},
     "output_type": "display_data"
    }
   ],
   "source": [
    "import numpy as np\n",
    "import pandas as pd\n",
    "import matplotlib.pyplot as plt \n",
    "from sklearn.model_selection import train_test_split\n",
    "class LinearRegression:\n",
    "    def __init__(self,lr:int= 0.01,iter:int = 1000) -> None:\n",
    "        self.lr = lr\n",
    "        self.iter = iter\n",
    "        self.weight = None\n",
    "        self.bias = None\n",
    "\n",
    "    def fit(self, X,Y):\n",
    "        num_of_sample,num_feature = X.shape # [N,f]\n",
    "        self.weight = np.random.rand(num_feature) \n",
    "        self.bias = 0\n",
    "        # gradient descent learning \n",
    "        for i in range(num_of_sample):\n",
    "            # y_pred shape should be (N,1)\n",
    "            y_pred = np.dot(X, self.weight) + self.bias\n",
    "\n",
    "            \n",
    "            dw = (1 / num_of_sample) * np.dot(X.T, y_pred - Y)\n",
    "            db = (1 / num_of_sample) * np.sum(y_pred - Y)\n",
    "\n",
    "            self.weight = self.weight - self.lr*dw\n",
    "            self.bias = self.bias - self.lr*db\n",
    "\n",
    "        return self\n",
    "\n",
    "    def predict(self,X):\n",
    "        return np.dot(X,self.weight) + self.bias\n",
    "\n",
    "    def evalution():\n",
    "        # R2\n",
    "        sumofsquares = 0\n",
    "        sumofresiduals = 0\n",
    "        for i in range(num_of_sample) :\n",
    "            y_pred = b0 + b1 * X[i]\n",
    "            sumofsquares += (Y[i] - y_mean) ** 2\n",
    "            sumofresiduals += (Y[i] - y_pred) **2\n",
    "            \n",
    "        score  = 1 - (sumofresiduals/sumofsquares)\n",
    "        print(score)\n",
    "        rmse = 0\n",
    "        for i in range(n):\n",
    "            y_pred=  b0 + b1* X[i]\n",
    "            rmse += (Y[i] - y_pred) ** 2\n",
    "            \n",
    "        rmse = np.sqrt(rmse/n)\n",
    "        print(rmse)\n",
    "\n",
    "\n",
    "# driver code \n",
    "  \n",
    "def main() : \n",
    "      \n",
    "    # Importing dataset       \n",
    "    df = pd.read_csv( \"canada.csv\" )   \n",
    "    X = df.iloc[:,:-1].values   \n",
    "    Y = df.iloc[:,1].values       \n",
    "    # Splitting dataset into train and test set   \n",
    "    X_train, X_test, Y_train, Y_test = train_test_split(X, Y, test_size = 1/3, random_state = 0 ) \n",
    "      \n",
    "    # Model training       \n",
    "    model = LinearRegression( iter = 1000, lr = 0.01 )   \n",
    "    model.fit( X_train, Y_train ) \n",
    "    \n",
    "    # Prediction on test set   \n",
    "    Y_pred = model.predict( X_test )       \n",
    "    print( \"Predicted values \", np.round( Y_pred[:3], 2 ) )        \n",
    "    print( \"Real values      \", Y_test[:3] )       \n",
    "    print( \"Trained W        \", round( model.weight[0], 2 ) )       \n",
    "    print( \"Trained b        \", round( model.bias, 2 ) ) \n",
    "      \n",
    "    # Visualization on test set        \n",
    "    plt.scatter( X_test, Y_test, color = 'blue' )       \n",
    "    plt.plot( X_test, Y_pred, color = 'orange' )       \n",
    "    plt.title( 'Salary vs Experience' )       \n",
    "    plt.xlabel( 'Years of Experience' )       \n",
    "    plt.ylabel( 'Salary' )       \n",
    "    plt.show() \n",
    "     \n",
    "if __name__ == \"__main__\" :        \n",
    "    main()"
   ]
  }
 ],
 "metadata": {
  "kernelspec": {
   "display_name": "Python 3 (ipykernel)",
   "language": "python",
   "name": "python3"
  },
  "language_info": {
   "codemirror_mode": {
    "name": "ipython",
    "version": 3
   },
   "file_extension": ".py",
   "mimetype": "text/x-python",
   "name": "python",
   "nbconvert_exporter": "python",
   "pygments_lexer": "ipython3",
   "version": "3.11.5"
  }
 },
 "nbformat": 4,
 "nbformat_minor": 5
}
